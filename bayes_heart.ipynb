{
  "nbformat": 4,
  "nbformat_minor": 0,
  "metadata": {
    "colab": {
      "provenance": []
    },
    "kernelspec": {
      "name": "python3",
      "display_name": "Python 3"
    },
    "language_info": {
      "name": "python"
    }
  },
  "cells": [
    {
      "cell_type": "code",
      "execution_count": 1,
      "metadata": {
        "colab": {
          "base_uri": "https://localhost:8080/",
          "height": 0
        },
        "id": "195zvVejH52b",
        "outputId": "cfac8a3c-8833-4b69-bf19-eb9dac6ffe88"
      },
      "outputs": [
        {
          "output_type": "stream",
          "name": "stdout",
          "text": [
            "Collecting git+https://github.com/pgmpy/pgmpy.git\n",
            "  Cloning https://github.com/pgmpy/pgmpy.git to /tmp/pip-req-build-f7aknf2u\n",
            "  Running command git clone --filter=blob:none --quiet https://github.com/pgmpy/pgmpy.git /tmp/pip-req-build-f7aknf2u\n",
            "  Resolved https://github.com/pgmpy/pgmpy.git to commit fcae6b42119df76fbe07d693f226e5b6659d6e62\n",
            "  Running command git submodule update --init --recursive -q\n",
            "  Installing build dependencies ... \u001b[?25l\u001b[?25hdone\n",
            "  Getting requirements to build wheel ... \u001b[?25l\u001b[?25hdone\n",
            "  Preparing metadata (pyproject.toml) ... \u001b[?25l\u001b[?25hdone\n",
            "Requirement already satisfied: networkx>=3.0 in /usr/local/lib/python3.11/dist-packages (from pgmpy==1.0.0) (3.5)\n",
            "Requirement already satisfied: numpy>=2.0 in /usr/local/lib/python3.11/dist-packages (from pgmpy==1.0.0) (2.0.2)\n",
            "Requirement already satisfied: scipy<1.16 in /usr/local/lib/python3.11/dist-packages (from pgmpy==1.0.0) (1.15.3)\n",
            "Requirement already satisfied: scikit-learn>=1.2 in /usr/local/lib/python3.11/dist-packages (from pgmpy==1.0.0) (1.6.1)\n",
            "Requirement already satisfied: pandas>=1.5 in /usr/local/lib/python3.11/dist-packages (from pgmpy==1.0.0) (2.2.2)\n",
            "Requirement already satisfied: torch>=2.5 in /usr/local/lib/python3.11/dist-packages (from pgmpy==1.0.0) (2.6.0+cu124)\n",
            "Requirement already satisfied: statsmodels>=0.13 in /usr/local/lib/python3.11/dist-packages (from pgmpy==1.0.0) (0.14.4)\n",
            "Requirement already satisfied: tqdm>=4.64 in /usr/local/lib/python3.11/dist-packages (from pgmpy==1.0.0) (4.67.1)\n",
            "Requirement already satisfied: pyparsing>=3.0 in /usr/local/lib/python3.11/dist-packages (from pgmpy==1.0.0) (3.2.3)\n",
            "Requirement already satisfied: joblib>=1.2 in /usr/local/lib/python3.11/dist-packages (from pgmpy==1.0.0) (1.5.1)\n",
            "Requirement already satisfied: opt_einsum>=3.3 in /usr/local/lib/python3.11/dist-packages (from pgmpy==1.0.0) (3.4.0)\n",
            "Collecting pyro-ppl>=1.9.1 (from pgmpy==1.0.0)\n",
            "  Downloading pyro_ppl-1.9.1-py3-none-any.whl.metadata (7.8 kB)\n",
            "Requirement already satisfied: python-dateutil>=2.8.2 in /usr/local/lib/python3.11/dist-packages (from pandas>=1.5->pgmpy==1.0.0) (2.9.0.post0)\n",
            "Requirement already satisfied: pytz>=2020.1 in /usr/local/lib/python3.11/dist-packages (from pandas>=1.5->pgmpy==1.0.0) (2025.2)\n",
            "Requirement already satisfied: tzdata>=2022.7 in /usr/local/lib/python3.11/dist-packages (from pandas>=1.5->pgmpy==1.0.0) (2025.2)\n",
            "Collecting pyro-api>=0.1.1 (from pyro-ppl>=1.9.1->pgmpy==1.0.0)\n",
            "  Downloading pyro_api-0.1.2-py3-none-any.whl.metadata (2.5 kB)\n",
            "Requirement already satisfied: threadpoolctl>=3.1.0 in /usr/local/lib/python3.11/dist-packages (from scikit-learn>=1.2->pgmpy==1.0.0) (3.6.0)\n",
            "Requirement already satisfied: patsy>=0.5.6 in /usr/local/lib/python3.11/dist-packages (from statsmodels>=0.13->pgmpy==1.0.0) (1.0.1)\n",
            "Requirement already satisfied: packaging>=21.3 in /usr/local/lib/python3.11/dist-packages (from statsmodels>=0.13->pgmpy==1.0.0) (24.2)\n",
            "Requirement already satisfied: filelock in /usr/local/lib/python3.11/dist-packages (from torch>=2.5->pgmpy==1.0.0) (3.18.0)\n",
            "Requirement already satisfied: typing-extensions>=4.10.0 in /usr/local/lib/python3.11/dist-packages (from torch>=2.5->pgmpy==1.0.0) (4.14.0)\n",
            "Requirement already satisfied: jinja2 in /usr/local/lib/python3.11/dist-packages (from torch>=2.5->pgmpy==1.0.0) (3.1.6)\n",
            "Requirement already satisfied: fsspec in /usr/local/lib/python3.11/dist-packages (from torch>=2.5->pgmpy==1.0.0) (2025.3.2)\n",
            "Collecting nvidia-cuda-nvrtc-cu12==12.4.127 (from torch>=2.5->pgmpy==1.0.0)\n",
            "  Downloading nvidia_cuda_nvrtc_cu12-12.4.127-py3-none-manylinux2014_x86_64.whl.metadata (1.5 kB)\n",
            "Collecting nvidia-cuda-runtime-cu12==12.4.127 (from torch>=2.5->pgmpy==1.0.0)\n",
            "  Downloading nvidia_cuda_runtime_cu12-12.4.127-py3-none-manylinux2014_x86_64.whl.metadata (1.5 kB)\n",
            "Collecting nvidia-cuda-cupti-cu12==12.4.127 (from torch>=2.5->pgmpy==1.0.0)\n",
            "  Downloading nvidia_cuda_cupti_cu12-12.4.127-py3-none-manylinux2014_x86_64.whl.metadata (1.6 kB)\n",
            "Collecting nvidia-cudnn-cu12==9.1.0.70 (from torch>=2.5->pgmpy==1.0.0)\n",
            "  Downloading nvidia_cudnn_cu12-9.1.0.70-py3-none-manylinux2014_x86_64.whl.metadata (1.6 kB)\n",
            "Collecting nvidia-cublas-cu12==12.4.5.8 (from torch>=2.5->pgmpy==1.0.0)\n",
            "  Downloading nvidia_cublas_cu12-12.4.5.8-py3-none-manylinux2014_x86_64.whl.metadata (1.5 kB)\n",
            "Collecting nvidia-cufft-cu12==11.2.1.3 (from torch>=2.5->pgmpy==1.0.0)\n",
            "  Downloading nvidia_cufft_cu12-11.2.1.3-py3-none-manylinux2014_x86_64.whl.metadata (1.5 kB)\n",
            "Collecting nvidia-curand-cu12==10.3.5.147 (from torch>=2.5->pgmpy==1.0.0)\n",
            "  Downloading nvidia_curand_cu12-10.3.5.147-py3-none-manylinux2014_x86_64.whl.metadata (1.5 kB)\n",
            "Collecting nvidia-cusolver-cu12==11.6.1.9 (from torch>=2.5->pgmpy==1.0.0)\n",
            "  Downloading nvidia_cusolver_cu12-11.6.1.9-py3-none-manylinux2014_x86_64.whl.metadata (1.6 kB)\n",
            "Collecting nvidia-cusparse-cu12==12.3.1.170 (from torch>=2.5->pgmpy==1.0.0)\n",
            "  Downloading nvidia_cusparse_cu12-12.3.1.170-py3-none-manylinux2014_x86_64.whl.metadata (1.6 kB)\n",
            "Requirement already satisfied: nvidia-cusparselt-cu12==0.6.2 in /usr/local/lib/python3.11/dist-packages (from torch>=2.5->pgmpy==1.0.0) (0.6.2)\n",
            "Requirement already satisfied: nvidia-nccl-cu12==2.21.5 in /usr/local/lib/python3.11/dist-packages (from torch>=2.5->pgmpy==1.0.0) (2.21.5)\n",
            "Requirement already satisfied: nvidia-nvtx-cu12==12.4.127 in /usr/local/lib/python3.11/dist-packages (from torch>=2.5->pgmpy==1.0.0) (12.4.127)\n",
            "Collecting nvidia-nvjitlink-cu12==12.4.127 (from torch>=2.5->pgmpy==1.0.0)\n",
            "  Downloading nvidia_nvjitlink_cu12-12.4.127-py3-none-manylinux2014_x86_64.whl.metadata (1.5 kB)\n",
            "Requirement already satisfied: triton==3.2.0 in /usr/local/lib/python3.11/dist-packages (from torch>=2.5->pgmpy==1.0.0) (3.2.0)\n",
            "Requirement already satisfied: sympy==1.13.1 in /usr/local/lib/python3.11/dist-packages (from torch>=2.5->pgmpy==1.0.0) (1.13.1)\n",
            "Requirement already satisfied: mpmath<1.4,>=1.1.0 in /usr/local/lib/python3.11/dist-packages (from sympy==1.13.1->torch>=2.5->pgmpy==1.0.0) (1.3.0)\n",
            "Requirement already satisfied: six>=1.5 in /usr/local/lib/python3.11/dist-packages (from python-dateutil>=2.8.2->pandas>=1.5->pgmpy==1.0.0) (1.17.0)\n",
            "Requirement already satisfied: MarkupSafe>=2.0 in /usr/local/lib/python3.11/dist-packages (from jinja2->torch>=2.5->pgmpy==1.0.0) (3.0.2)\n",
            "Downloading pyro_ppl-1.9.1-py3-none-any.whl (755 kB)\n",
            "\u001b[2K   \u001b[90m━━━━━━━━━━━━━━━━━━━━━━━━━━━━━━━━━━━━━━━━\u001b[0m \u001b[32m756.0/756.0 kB\u001b[0m \u001b[31m9.4 MB/s\u001b[0m eta \u001b[36m0:00:00\u001b[0m\n",
            "\u001b[?25hDownloading nvidia_cublas_cu12-12.4.5.8-py3-none-manylinux2014_x86_64.whl (363.4 MB)\n",
            "\u001b[2K   \u001b[90m━━━━━━━━━━━━━━━━━━━━━━━━━━━━━━━━━━━━━━━━\u001b[0m \u001b[32m363.4/363.4 MB\u001b[0m \u001b[31m5.0 MB/s\u001b[0m eta \u001b[36m0:00:00\u001b[0m\n",
            "\u001b[?25hDownloading nvidia_cuda_cupti_cu12-12.4.127-py3-none-manylinux2014_x86_64.whl (13.8 MB)\n",
            "\u001b[2K   \u001b[90m━━━━━━━━━━━━━━━━━━━━━━━━━━━━━━━━━━━━━━━━\u001b[0m \u001b[32m13.8/13.8 MB\u001b[0m \u001b[31m112.0 MB/s\u001b[0m eta \u001b[36m0:00:00\u001b[0m\n",
            "\u001b[?25hDownloading nvidia_cuda_nvrtc_cu12-12.4.127-py3-none-manylinux2014_x86_64.whl (24.6 MB)\n",
            "\u001b[2K   \u001b[90m━━━━━━━━━━━━━━━━━━━━━━━━━━━━━━━━━━━━━━━━\u001b[0m \u001b[32m24.6/24.6 MB\u001b[0m \u001b[31m86.3 MB/s\u001b[0m eta \u001b[36m0:00:00\u001b[0m\n",
            "\u001b[?25hDownloading nvidia_cuda_runtime_cu12-12.4.127-py3-none-manylinux2014_x86_64.whl (883 kB)\n",
            "\u001b[2K   \u001b[90m━━━━━━━━━━━━━━━━━━━━━━━━━━━━━━━━━━━━━━━━\u001b[0m \u001b[32m883.7/883.7 kB\u001b[0m \u001b[31m49.9 MB/s\u001b[0m eta \u001b[36m0:00:00\u001b[0m\n",
            "\u001b[?25hDownloading nvidia_cudnn_cu12-9.1.0.70-py3-none-manylinux2014_x86_64.whl (664.8 MB)\n",
            "\u001b[2K   \u001b[90m━━━━━━━━━━━━━━━━━━━━━━━━━━━━━━━━━━━━━━━━\u001b[0m \u001b[32m664.8/664.8 MB\u001b[0m \u001b[31m2.6 MB/s\u001b[0m eta \u001b[36m0:00:00\u001b[0m\n",
            "\u001b[?25hDownloading nvidia_cufft_cu12-11.2.1.3-py3-none-manylinux2014_x86_64.whl (211.5 MB)\n",
            "\u001b[2K   \u001b[90m━━━━━━━━━━━━━━━━━━━━━━━━━━━━━━━━━━━━━━━━\u001b[0m \u001b[32m211.5/211.5 MB\u001b[0m \u001b[31m5.8 MB/s\u001b[0m eta \u001b[36m0:00:00\u001b[0m\n",
            "\u001b[?25hDownloading nvidia_curand_cu12-10.3.5.147-py3-none-manylinux2014_x86_64.whl (56.3 MB)\n",
            "\u001b[2K   \u001b[90m━━━━━━━━━━━━━━━━━━━━━━━━━━━━━━━━━━━━━━━━\u001b[0m \u001b[32m56.3/56.3 MB\u001b[0m \u001b[31m12.6 MB/s\u001b[0m eta \u001b[36m0:00:00\u001b[0m\n",
            "\u001b[?25hDownloading nvidia_cusolver_cu12-11.6.1.9-py3-none-manylinux2014_x86_64.whl (127.9 MB)\n",
            "\u001b[2K   \u001b[90m━━━━━━━━━━━━━━━━━━━━━━━━━━━━━━━━━━━━━━━━\u001b[0m \u001b[32m127.9/127.9 MB\u001b[0m \u001b[31m7.7 MB/s\u001b[0m eta \u001b[36m0:00:00\u001b[0m\n",
            "\u001b[?25hDownloading nvidia_cusparse_cu12-12.3.1.170-py3-none-manylinux2014_x86_64.whl (207.5 MB)\n",
            "\u001b[2K   \u001b[90m━━━━━━━━━━━━━━━━━━━━━━━━━━━━━━━━━━━━━━━━\u001b[0m \u001b[32m207.5/207.5 MB\u001b[0m \u001b[31m5.8 MB/s\u001b[0m eta \u001b[36m0:00:00\u001b[0m\n",
            "\u001b[?25hDownloading nvidia_nvjitlink_cu12-12.4.127-py3-none-manylinux2014_x86_64.whl (21.1 MB)\n",
            "\u001b[2K   \u001b[90m━━━━━━━━━━━━━━━━━━━━━━━━━━━━━━━━━━━━━━━━\u001b[0m \u001b[32m21.1/21.1 MB\u001b[0m \u001b[31m97.7 MB/s\u001b[0m eta \u001b[36m0:00:00\u001b[0m\n",
            "\u001b[?25hDownloading pyro_api-0.1.2-py3-none-any.whl (11 kB)\n",
            "Building wheels for collected packages: pgmpy\n",
            "  Building wheel for pgmpy (pyproject.toml) ... \u001b[?25l\u001b[?25hdone\n",
            "  Created wheel for pgmpy: filename=pgmpy-1.0.0-py3-none-any.whl size=2049499 sha256=8591fab7d57290c5708a4301dc567ef627a2954eec8b2de3ce68e3d1c82d536e\n",
            "  Stored in directory: /tmp/pip-ephem-wheel-cache-22pilknz/wheels/d9/9f/45/a2e53089feda9327b2633091eed8fd63db751b9c8b9b1c94f7\n",
            "Successfully built pgmpy\n",
            "Installing collected packages: pyro-api, nvidia-nvjitlink-cu12, nvidia-curand-cu12, nvidia-cufft-cu12, nvidia-cuda-runtime-cu12, nvidia-cuda-nvrtc-cu12, nvidia-cuda-cupti-cu12, nvidia-cublas-cu12, nvidia-cusparse-cu12, nvidia-cudnn-cu12, nvidia-cusolver-cu12, pyro-ppl, pgmpy\n",
            "  Attempting uninstall: nvidia-nvjitlink-cu12\n",
            "    Found existing installation: nvidia-nvjitlink-cu12 12.5.82\n",
            "    Uninstalling nvidia-nvjitlink-cu12-12.5.82:\n",
            "      Successfully uninstalled nvidia-nvjitlink-cu12-12.5.82\n",
            "  Attempting uninstall: nvidia-curand-cu12\n",
            "    Found existing installation: nvidia-curand-cu12 10.3.6.82\n",
            "    Uninstalling nvidia-curand-cu12-10.3.6.82:\n",
            "      Successfully uninstalled nvidia-curand-cu12-10.3.6.82\n",
            "  Attempting uninstall: nvidia-cufft-cu12\n",
            "    Found existing installation: nvidia-cufft-cu12 11.2.3.61\n",
            "    Uninstalling nvidia-cufft-cu12-11.2.3.61:\n",
            "      Successfully uninstalled nvidia-cufft-cu12-11.2.3.61\n",
            "  Attempting uninstall: nvidia-cuda-runtime-cu12\n",
            "    Found existing installation: nvidia-cuda-runtime-cu12 12.5.82\n",
            "    Uninstalling nvidia-cuda-runtime-cu12-12.5.82:\n",
            "      Successfully uninstalled nvidia-cuda-runtime-cu12-12.5.82\n",
            "  Attempting uninstall: nvidia-cuda-nvrtc-cu12\n",
            "    Found existing installation: nvidia-cuda-nvrtc-cu12 12.5.82\n",
            "    Uninstalling nvidia-cuda-nvrtc-cu12-12.5.82:\n",
            "      Successfully uninstalled nvidia-cuda-nvrtc-cu12-12.5.82\n",
            "  Attempting uninstall: nvidia-cuda-cupti-cu12\n",
            "    Found existing installation: nvidia-cuda-cupti-cu12 12.5.82\n",
            "    Uninstalling nvidia-cuda-cupti-cu12-12.5.82:\n",
            "      Successfully uninstalled nvidia-cuda-cupti-cu12-12.5.82\n",
            "  Attempting uninstall: nvidia-cublas-cu12\n",
            "    Found existing installation: nvidia-cublas-cu12 12.5.3.2\n",
            "    Uninstalling nvidia-cublas-cu12-12.5.3.2:\n",
            "      Successfully uninstalled nvidia-cublas-cu12-12.5.3.2\n",
            "  Attempting uninstall: nvidia-cusparse-cu12\n",
            "    Found existing installation: nvidia-cusparse-cu12 12.5.1.3\n",
            "    Uninstalling nvidia-cusparse-cu12-12.5.1.3:\n",
            "      Successfully uninstalled nvidia-cusparse-cu12-12.5.1.3\n",
            "  Attempting uninstall: nvidia-cudnn-cu12\n",
            "    Found existing installation: nvidia-cudnn-cu12 9.3.0.75\n",
            "    Uninstalling nvidia-cudnn-cu12-9.3.0.75:\n",
            "      Successfully uninstalled nvidia-cudnn-cu12-9.3.0.75\n",
            "  Attempting uninstall: nvidia-cusolver-cu12\n",
            "    Found existing installation: nvidia-cusolver-cu12 11.6.3.83\n",
            "    Uninstalling nvidia-cusolver-cu12-11.6.3.83:\n",
            "      Successfully uninstalled nvidia-cusolver-cu12-11.6.3.83\n",
            "Successfully installed nvidia-cublas-cu12-12.4.5.8 nvidia-cuda-cupti-cu12-12.4.127 nvidia-cuda-nvrtc-cu12-12.4.127 nvidia-cuda-runtime-cu12-12.4.127 nvidia-cudnn-cu12-9.1.0.70 nvidia-cufft-cu12-11.2.1.3 nvidia-curand-cu12-10.3.5.147 nvidia-cusolver-cu12-11.6.1.9 nvidia-cusparse-cu12-12.3.1.170 nvidia-nvjitlink-cu12-12.4.127 pgmpy-1.0.0 pyro-api-0.1.2 pyro-ppl-1.9.1\n"
          ]
        }
      ],
      "source": [
        "pip install git+https://github.com/pgmpy/pgmpy.git"
      ]
    },
    {
      "cell_type": "code",
      "source": [
        "import pandas as pd\n",
        "import numpy as np\n",
        "from sklearn.preprocessing import MinMaxScaler\n",
        "from pgmpy.models import DiscreteBayesianNetwork\n",
        "from pgmpy.estimators import MaximumLikelihoodEstimator\n",
        "from pgmpy.inference import VariableElimination\n",
        "import networkx as nx\n",
        "import matplotlib.pyplot as plt"
      ],
      "metadata": {
        "id": "miLGKDZUJ3ji"
      },
      "execution_count": 2,
      "outputs": []
    },
    {
      "cell_type": "code",
      "source": [
        "df = pd.read_csv('/content/drive/MyDrive/heart_disease.csv')"
      ],
      "metadata": {
        "id": "zEwFMempJUG7"
      },
      "execution_count": 3,
      "outputs": []
    },
    {
      "cell_type": "code",
      "source": [
        "df = df.dropna().drop_duplicates().reset_index(drop=True)"
      ],
      "metadata": {
        "id": "_tVYKTLcMEg5"
      },
      "execution_count": 4,
      "outputs": []
    },
    {
      "cell_type": "code",
      "source": [
        "scaler = MinMaxScaler()\n",
        "num_cols = df.select_dtypes(include=np.number).columns.tolist()\n",
        "df[num_cols] = scaler.fit_transform(df[num_cols])"
      ],
      "metadata": {
        "id": "_adQEt7-MJ1S"
      },
      "execution_count": 5,
      "outputs": []
    },
    {
      "cell_type": "code",
      "source": [
        "df.to_csv(\"cleaned_data.csv\", index=False)"
      ],
      "metadata": {
        "id": "DwuRasf1JZl7"
      },
      "execution_count": 6,
      "outputs": []
    },
    {
      "cell_type": "code",
      "source": [
        "df['age'] = pd.cut(df['age'], bins=3, labels=[\"low\", \"medium\", \"high\"])\n",
        "df['chol'] = pd.cut(df['chol'], bins=3, labels=[\"low\", \"medium\", \"high\"])\n",
        "df['thalach'] = pd.cut(df['thalach'], bins=3, labels=[\"low\", \"medium\", \"high\"])"
      ],
      "metadata": {
        "id": "tnmGgfVQKKkk"
      },
      "execution_count": 7,
      "outputs": []
    },
    {
      "cell_type": "code",
      "source": [
        "model = DiscreteBayesianNetwork([\n",
        "    (\"age\", \"fbs\"),\n",
        "    (\"fbs\", \"target\"),\n",
        "    (\"target\", \"chol\"),\n",
        "    (\"target\", \"thalach\")\n",
        "])"
      ],
      "metadata": {
        "id": "ioeN6zsPIm1R"
      },
      "execution_count": 8,
      "outputs": []
    },
    {
      "cell_type": "code",
      "source": [
        "model.fit(df, estimator=MaximumLikelihoodEstimator)"
      ],
      "metadata": {
        "colab": {
          "base_uri": "https://localhost:8080/",
          "height": 0
        },
        "id": "w1KlF8zSgY-s",
        "outputId": "887bbca7-23f2-4b22-d35e-b4419f31b39c"
      },
      "execution_count": 9,
      "outputs": [
        {
          "output_type": "execute_result",
          "data": {
            "text/plain": [
              "<pgmpy.models.DiscreteBayesianNetwork.DiscreteBayesianNetwork at 0x7bebe90de0d0>"
            ]
          },
          "metadata": {},
          "execution_count": 9
        }
      ]
    },
    {
      "cell_type": "code",
      "source": [
        "infer = VariableElimination(model)\n",
        "print(\"🔍 P(target | age = medium):\")\n",
        "print(infer.query(variables=[\"target\"], evidence={\"age\": \"medium\"}))"
      ],
      "metadata": {
        "id": "1qYPXrglhHiO",
        "colab": {
          "base_uri": "https://localhost:8080/",
          "height": 0
        },
        "outputId": "8f8c6ef3-a49d-4ce8-eaa8-def733f01e26"
      },
      "execution_count": 10,
      "outputs": [
        {
          "output_type": "stream",
          "name": "stdout",
          "text": [
            "🔍 P(target | age = medium):\n",
            "+-------------+---------------+\n",
            "| target      |   phi(target) |\n",
            "+=============+===============+\n",
            "| target(0.0) |        0.4578 |\n",
            "+-------------+---------------+\n",
            "| target(1.0) |        0.5422 |\n",
            "+-------------+---------------+\n"
          ]
        }
      ]
    },
    {
      "cell_type": "code",
      "source": [
        "print(\"\\n P(target | age = 0.5):\")\n",
        "print(infer.query(variables=[\"target\"], evidence={\"age\": \"medium\"}))"
      ],
      "metadata": {
        "id": "rzMmfziYhKqh",
        "colab": {
          "base_uri": "https://localhost:8080/",
          "height": 0
        },
        "outputId": "799cfd8b-0539-4975-8107-e1b5b35d01d7"
      },
      "execution_count": 11,
      "outputs": [
        {
          "output_type": "stream",
          "name": "stdout",
          "text": [
            "\n",
            " P(target | age = 0.5):\n",
            "+-------------+---------------+\n",
            "| target      |   phi(target) |\n",
            "+=============+===============+\n",
            "| target(0.0) |        0.4578 |\n",
            "+-------------+---------------+\n",
            "| target(1.0) |        0.5422 |\n",
            "+-------------+---------------+\n"
          ]
        }
      ]
    },
    {
      "cell_type": "code",
      "source": [
        "print(\"\\n P(chol | target = 1):\")\n",
        "print(infer.query(variables=[\"chol\"], evidence={\"target\": 1}))"
      ],
      "metadata": {
        "colab": {
          "base_uri": "https://localhost:8080/",
          "height": 0
        },
        "id": "WR_4lcPrhiKf",
        "outputId": "133fab73-9dd9-4c9a-f00f-10a2eb37b0cf"
      },
      "execution_count": 12,
      "outputs": [
        {
          "output_type": "stream",
          "name": "stdout",
          "text": [
            "\n",
            " P(chol | target = 1):\n",
            "+--------------+-------------+\n",
            "| chol         |   phi(chol) |\n",
            "+==============+=============+\n",
            "| chol(high)   |      0.0061 |\n",
            "+--------------+-------------+\n",
            "| chol(low)    |      0.7927 |\n",
            "+--------------+-------------+\n",
            "| chol(medium) |      0.2012 |\n",
            "+--------------+-------------+\n"
          ]
        }
      ]
    },
    {
      "cell_type": "code",
      "source": [
        "print(\"\\n P(thalach | target = 1):\")\n",
        "print(infer.query(variables=[\"thalach\"], evidence={\"target\": 1}))"
      ],
      "metadata": {
        "colab": {
          "base_uri": "https://localhost:8080/",
          "height": 0
        },
        "id": "Tra_O6PNzDfm",
        "outputId": "022016f1-ee49-4488-e713-4b8bc4c79d9e"
      },
      "execution_count": 13,
      "outputs": [
        {
          "output_type": "stream",
          "name": "stdout",
          "text": [
            "\n",
            " P(thalach | target = 1):\n",
            "+-----------------+----------------+\n",
            "| thalach         |   phi(thalach) |\n",
            "+=================+================+\n",
            "| thalach(high)   |         0.5610 |\n",
            "+-----------------+----------------+\n",
            "| thalach(low)    |         0.0244 |\n",
            "+-----------------+----------------+\n",
            "| thalach(medium) |         0.4146 |\n",
            "+-----------------+----------------+\n"
          ]
        }
      ]
    },
    {
      "cell_type": "code",
      "source": [
        "print(\"\\n P(target | fbs = 1):\")\n",
        "print(infer.query(variables=[\"target\"], evidence={\"fbs\": 1}))"
      ],
      "metadata": {
        "colab": {
          "base_uri": "https://localhost:8080/",
          "height": 0
        },
        "id": "buRjRLQizIy5",
        "outputId": "0020b9ab-1ed5-4cf6-d8b8-aa89a9a433ba"
      },
      "execution_count": 14,
      "outputs": [
        {
          "output_type": "stream",
          "name": "stdout",
          "text": [
            "\n",
            " P(target | fbs = 1):\n",
            "+-------------+---------------+\n",
            "| target      |   phi(target) |\n",
            "+=============+===============+\n",
            "| target(0.0) |        0.4889 |\n",
            "+-------------+---------------+\n",
            "| target(1.0) |        0.5111 |\n",
            "+-------------+---------------+\n"
          ]
        }
      ]
    },
    {
      "cell_type": "code",
      "source": [
        "plt.figure(figsize=(8, 6))\n",
        "G = nx.DiGraph()\n",
        "G.add_edges_from(model.edges)"
      ],
      "metadata": {
        "colab": {
          "base_uri": "https://localhost:8080/",
          "height": 34
        },
        "id": "s7aKehvqzM-z",
        "outputId": "1897595b-c2c3-4814-b533-11414e3ab2ad"
      },
      "execution_count": 15,
      "outputs": [
        {
          "output_type": "display_data",
          "data": {
            "text/plain": [
              "<Figure size 800x600 with 0 Axes>"
            ]
          },
          "metadata": {}
        }
      ]
    },
    {
      "cell_type": "code",
      "source": [
        "nx.draw(G, with_labels=True, node_color=\"skyblue\", node_size=2000, font_size=12, arrows=True)"
      ],
      "metadata": {
        "colab": {
          "base_uri": "https://localhost:8080/",
          "height": 516
        },
        "id": "nel1BwYZzQWK",
        "outputId": "26a4bfd1-fdbe-4e88-d11d-7e69133467b2"
      },
      "execution_count": 16,
      "outputs": [
        {
          "output_type": "display_data",
          "data": {
            "text/plain": [
              "<Figure size 640x480 with 1 Axes>"
            ],
            "image/png": "[encoded data removed]"
          },
          "metadata": {}
        }
      ]
    },
    {
      "cell_type": "code",
      "source": [
        "plt.title(\"📊 Bayesian Network Structure\")\n",
        "plt.savefig(\"bayesian_network.png\")"
      ],
      "metadata": {
        "colab": {
          "base_uri": "https://localhost:8080/",
          "height": 521
        },
        "id": "Vx_l0j7UzTTR",
        "outputId": "794f87a1-4a74-4882-ec09-417dbe334e32"
      },
      "execution_count": 17,
      "outputs": [
        {
          "output_type": "stream",
          "name": "stderr",
          "text": [
            "/tmp/ipython-input-17-15972331.py:2: UserWarning: Glyph 128202 (\\N{BAR CHART}) missing from font(s) DejaVu Sans.\n",
            "  plt.savefig(\"bayesian_network.png\")\n",
            "/usr/local/lib/python3.11/dist-packages/IPython/core/pylabtools.py:151: UserWarning: Glyph 128202 (\\N{BAR CHART}) missing from font(s) DejaVu Sans.\n",
            "  fig.canvas.print_figure(bytes_io, **kw)\n"
          ]
        },
        {
          "output_type": "display_data",
          "data": {
            "text/plain": [
              "<Figure size 640x480 with 1 Axes>"
            ],
            "image/png": "[encoded data removed]"
          },
          "metadata": {}
        }
      ]
    },
    {
      "cell_type": "code",
      "source": [
        "infer = VariableElimination(model)"
      ],
      "metadata": {
        "id": "Y0RpkvrD_bAJ"
      },
      "execution_count": 19,
      "outputs": []
    },
    {
      "cell_type": "code",
      "source": [
        "age_levels = ['low', 'medium', 'high']\n",
        "chol_levels = ['low', 'medium', 'high']"
      ],
      "metadata": {
        "id": "BU1XQxLO_s77"
      },
      "execution_count": 21,
      "outputs": []
    },
    {
      "cell_type": "code",
      "source": [
        "print(\"P(target | age)\")"
      ],
      "metadata": {
        "colab": {
          "base_uri": "https://localhost:8080/",
          "height": 0
        },
        "id": "OC-9JGPKApRB",
        "outputId": "59e7cf4f-b5a5-497a-8c27-b551aac78a63"
      },
      "execution_count": 23,
      "outputs": [
        {
          "output_type": "stream",
          "name": "stdout",
          "text": [
            "P(target | age)\n"
          ]
        }
      ]
    },
    {
      "cell_type": "code",
      "source": [
        "for level in age_levels:\n",
        "    q = infer.query(variables=['target'], evidence={'age': level})\n",
        "    print(f\"age = {level} →\\n{q}\")"
      ],
      "metadata": {
        "colab": {
          "base_uri": "https://localhost:8080/",
          "height": 0
        },
        "id": "hcWZCwRRAwjJ",
        "outputId": "88370283-903a-4aa8-9917-ec7651cd660a"
      },
      "execution_count": 27,
      "outputs": [
        {
          "output_type": "stream",
          "name": "stdout",
          "text": [
            "age = low →\n",
            "+-------------+---------------+\n",
            "| target      |   phi(target) |\n",
            "+=============+===============+\n",
            "| target(0.0) |        0.4534 |\n",
            "+-------------+---------------+\n",
            "| target(1.0) |        0.5466 |\n",
            "+-------------+---------------+\n",
            "age = medium →\n",
            "+-------------+---------------+\n",
            "| target      |   phi(target) |\n",
            "+=============+===============+\n",
            "| target(0.0) |        0.4578 |\n",
            "+-------------+---------------+\n",
            "| target(1.0) |        0.5422 |\n",
            "+-------------+---------------+\n",
            "age = high →\n",
            "+-------------+---------------+\n",
            "| target      |   phi(target) |\n",
            "+=============+===============+\n",
            "| target(0.0) |        0.4577 |\n",
            "+-------------+---------------+\n",
            "| target(1.0) |        0.5423 |\n",
            "+-------------+---------------+\n"
          ]
        }
      ]
    },
    {
      "cell_type": "code",
      "source": [
        "print(\"\\nP(target | chol)\")"
      ],
      "metadata": {
        "colab": {
          "base_uri": "https://localhost:8080/",
          "height": 0
        },
        "id": "NsuKJysuBdS-",
        "outputId": "3f826fa3-b34d-4aae-febf-cb1f7de6fb5c"
      },
      "execution_count": 28,
      "outputs": [
        {
          "output_type": "stream",
          "name": "stdout",
          "text": [
            "\n",
            "P(target | chol)\n"
          ]
        }
      ]
    },
    {
      "cell_type": "code",
      "source": [
        "for level in chol_levels:\n",
        "    q = infer.query(variables=['target'], evidence={'chol': level})\n",
        "    print(f\"chol = {level} →\\n{q}\")"
      ],
      "metadata": {
        "colab": {
          "base_uri": "https://localhost:8080/",
          "height": 0
        },
        "id": "BmqLrg4E_0_q",
        "outputId": "af11bb6a-adf7-4437-a3d2-e6c0dfba3c3e"
      },
      "execution_count": 29,
      "outputs": [
        {
          "output_type": "stream",
          "name": "stdout",
          "text": [
            "chol = low →\n",
            "+-------------+---------------+\n",
            "| target      |   phi(target) |\n",
            "+=============+===============+\n",
            "| target(0.0) |        0.4118 |\n",
            "+-------------+---------------+\n",
            "| target(1.0) |        0.5882 |\n",
            "+-------------+---------------+\n",
            "chol = medium →\n",
            "+-------------+---------------+\n",
            "| target      |   phi(target) |\n",
            "+=============+===============+\n",
            "| target(0.0) |        0.5875 |\n",
            "+-------------+---------------+\n",
            "| target(1.0) |        0.4125 |\n",
            "+-------------+---------------+\n",
            "chol = high →\n",
            "+-------------+---------------+\n",
            "| target      |   phi(target) |\n",
            "+=============+===============+\n",
            "| target(0.0) |        0.0000 |\n",
            "+-------------+---------------+\n",
            "| target(1.0) |        1.0000 |\n",
            "+-------------+---------------+\n"
          ]
        }
      ]
    }
  ]
}